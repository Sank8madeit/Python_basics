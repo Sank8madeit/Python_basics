{
  "nbformat": 4,
  "nbformat_minor": 0,
  "metadata": {
    "colab": {
      "provenance": [],
      "authorship_tag": "ABX9TyPvOflheWMEq1H3rvn8CnMH",
      "include_colab_link": true
    },
    "kernelspec": {
      "name": "python3",
      "display_name": "Python 3"
    },
    "language_info": {
      "name": "python"
    }
  },
  "cells": [
    {
      "cell_type": "markdown",
      "metadata": {
        "id": "view-in-github",
        "colab_type": "text"
      },
      "source": [
        "<a href=\"https://colab.research.google.com/github/Sank8madeit/Python_basics/blob/main/functions.ipynb\" target=\"_parent\"><img src=\"https://colab.research.google.com/assets/colab-badge.svg\" alt=\"Open In Colab\"/></a>"
      ]
    },
    {
      "cell_type": "code",
      "execution_count": 4,
      "metadata": {
        "colab": {
          "base_uri": "https://localhost:8080/"
        },
        "id": "ZFrevL0DsJs-",
        "outputId": "54a36937-d4ae-4736-f546-92eddec84de8"
      },
      "outputs": [
        {
          "output_type": "stream",
          "name": "stdout",
          "text": [
            "16\n",
            "1000\n",
            "1000\n",
            "None\n"
          ]
        }
      ],
      "source": [
        "#all about functions\n",
        "\n",
        "\n",
        "a='9494939303243222'\n",
        "print(len(a))\n",
        "#print(len(2222)) #giving error as we cannot calculte length of a number\n",
        "\n"
      ]
    },
    {
      "cell_type": "code",
      "source": [
        "\n",
        "#Indentation is a fundamental principle in Python, which you will encounter many times in the future. Generally, it translates into four spaces or a tab.\n",
        "\n",
        "\n",
        "#syntax of creating a function\n",
        "#def functionName():\n",
        "    # statements\n",
        "    # that can go\n",
        "    # on several\n",
        "    # lines\n",
        "\n",
        "#lets create a function without arguments\n",
        "\n",
        "def sanket():\n",
        "  a=10\n",
        "  b=10\n",
        "  c=10\n",
        "  d=a*b*c\n",
        "  print(a*b*c)\n",
        "\n",
        "sanket()  #calling sanket a function alone\n",
        "print(sanket()) #calling sanket in print will print none\n",
        "\n",
        "\n",
        "print(int(sanket())*2) #this statement will fail becoz there is no return value in the funtion please see the next code snipper\n"
      ],
      "metadata": {
        "colab": {
          "base_uri": "https://localhost:8080/",
          "height": 270
        },
        "id": "7VCtnxRJtqyb",
        "outputId": "8ace6c7d-e0bb-4e0a-d17c-1dfee3138113"
      },
      "execution_count": 14,
      "outputs": [
        {
          "output_type": "stream",
          "name": "stdout",
          "text": [
            "1000\n",
            "1000\n",
            "None\n",
            "1000\n"
          ]
        },
        {
          "output_type": "error",
          "ename": "TypeError",
          "evalue": "ignored",
          "traceback": [
            "\u001b[0;31m---------------------------------------------------------------------------\u001b[0m",
            "\u001b[0;31mTypeError\u001b[0m                                 Traceback (most recent call last)",
            "\u001b[0;32m<ipython-input-14-c0b2194c084f>\u001b[0m in \u001b[0;36m<cell line: 24>\u001b[0;34m()\u001b[0m\n\u001b[1;32m     22\u001b[0m \u001b[0;34m\u001b[0m\u001b[0m\n\u001b[1;32m     23\u001b[0m \u001b[0;34m\u001b[0m\u001b[0m\n\u001b[0;32m---> 24\u001b[0;31m \u001b[0mprint\u001b[0m\u001b[0;34m(\u001b[0m\u001b[0mint\u001b[0m\u001b[0;34m(\u001b[0m\u001b[0msanket\u001b[0m\u001b[0;34m(\u001b[0m\u001b[0;34m)\u001b[0m\u001b[0;34m)\u001b[0m\u001b[0;34m*\u001b[0m\u001b[0;36m2\u001b[0m\u001b[0;34m)\u001b[0m\u001b[0;34m\u001b[0m\u001b[0;34m\u001b[0m\u001b[0m\n\u001b[0m",
            "\u001b[0;31mTypeError\u001b[0m: int() argument must be a string, a bytes-like object or a real number, not 'NoneType'"
          ]
        }
      ]
    },
    {
      "cell_type": "code",
      "source": [
        "#function with return variable\n",
        "#lets take previous example\n",
        "\n",
        "def sanket():\n",
        "  a=10\n",
        "  b=10\n",
        "  c=10\n",
        "  d=a*b*c\n",
        "  return d\n",
        "\n",
        "print(int(sanket())*2) #this wasnot working in previous code, but now its working\n",
        "\n",
        "\n",
        "\n"
      ],
      "metadata": {
        "colab": {
          "base_uri": "https://localhost:8080/"
        },
        "id": "p_CIp3tgu2ss",
        "outputId": "32ebf5de-9e2b-4ee1-f4e2-85951e0c9c0b"
      },
      "execution_count": 16,
      "outputs": [
        {
          "output_type": "stream",
          "name": "stdout",
          "text": [
            "2000\n"
          ]
        }
      ]
    },
    {
      "cell_type": "code",
      "source": [
        "#lets make a function that will give a table of a number\n",
        "\n",
        "def manual_table(a):\n",
        "  print(a,' X 1 = ',a*1)\n",
        "  print(a,' X 2 = ',a*2)\n",
        "  print(a,' X 3 = ',a*3)\n",
        "  print(a,' X 4 = ',a*4)\n",
        "  print(a,' X 5 = ',a*5)\n",
        "  print(a,' X 6 = ',a*6)\n",
        "  print(a,' X 7 = ',a*7)\n",
        "  print(a,' X 8 = ',a*8)\n",
        "  print(a,' X 9 = ',a*9)\n",
        "  print(a,' X 10 = ',a*10)\n",
        "  return a\n",
        "\n",
        "manual_table(4)\n",
        "print(manual_table(2)*8)"
      ],
      "metadata": {
        "colab": {
          "base_uri": "https://localhost:8080/"
        },
        "id": "5b7HhVgLvwHz",
        "outputId": "71e7b6ee-4576-4cce-9e72-2d44b6224252"
      },
      "execution_count": 23,
      "outputs": [
        {
          "output_type": "stream",
          "name": "stdout",
          "text": [
            "4  X 1 =  4\n",
            "4  X 2 =  8\n",
            "4  X 3 =  12\n",
            "4  X 4 =  16\n",
            "4  X 5 =  20\n",
            "4  X 6 =  24\n",
            "4  X 7 =  28\n",
            "4  X 8 =  32\n",
            "4  X 9 =  36\n",
            "4  X 10 =  40\n",
            "2  X 1 =  2\n",
            "2  X 2 =  4\n",
            "2  X 3 =  6\n",
            "2  X 4 =  8\n",
            "2  X 5 =  10\n",
            "2  X 6 =  12\n",
            "2  X 7 =  14\n",
            "2  X 8 =  16\n",
            "2  X 9 =  18\n",
            "2  X 10 =  20\n",
            "16\n"
          ]
        }
      ]
    },
    {
      "cell_type": "markdown",
      "source": [
        "**Recap**\n",
        "\n",
        "In this chapter, you have seen that:\n",
        "\n",
        "functions can have parameters and return values.\n",
        "\n",
        "a return value is the result of running the function. The return value is returned to the code that called the function, to be used as needed.\n",
        "\n",
        "the parameters are the data necessary for a function to be run and generate a result.\n",
        "\n",
        "parameters are variables defined by a name. Parameters are specified in the function declaration.\n",
        "\n",
        "when using a function, you pass it different values as parameters. These values are called arguments.\n",
        "\n",
        "you can use the help function to print the documentation of a given function."
      ],
      "metadata": {
        "id": "Kf5uZdBwxIUo"
      }
    }
  ]
}