{
  "nbformat": 4,
  "nbformat_minor": 0,
  "metadata": {
    "colab": {
      "provenance": [],
      "toc_visible": true,
      "authorship_tag": "ABX9TyPvwDmfAFxCwIkcMTTkP1j5",
      "include_colab_link": true
    },
    "kernelspec": {
      "name": "python3",
      "display_name": "Python 3"
    },
    "language_info": {
      "name": "python"
    }
  },
  "cells": [
    {
      "cell_type": "markdown",
      "metadata": {
        "id": "view-in-github",
        "colab_type": "text"
      },
      "source": [
        "<a href=\"https://colab.research.google.com/github/Sank8madeit/Python_basics/blob/main/basics_of_python.ipynb\" target=\"_parent\"><img src=\"https://colab.research.google.com/assets/colab-badge.svg\" alt=\"Open In Colab\"/></a>"
      ]
    },
    {
      "cell_type": "code",
      "execution_count": 1,
      "metadata": {
        "colab": {
          "base_uri": "https://localhost:8080/"
        },
        "id": "MOrVJlIIbnNd",
        "outputId": "b4778382-f593-43c9-d7ec-55fd033408d8"
      },
      "outputs": [
        {
          "output_type": "stream",
          "name": "stdout",
          "text": [
            "Hello World\n"
          ]
        }
      ],
      "source": [
        "print('Hello World')"
      ]
    },
    {
      "cell_type": "markdown",
      "source": [
        "# A level 1 title\n",
        "Here is some text to introduce a markdown\n",
        "## level 2 title\n",
        "**This** is very important\n",
        "print('hello world')\n",
        "## other level 2 title\n",
        "But *this is* as well!"
      ],
      "metadata": {
        "id": "WWe82-hwct7Z"
      }
    },
    {
      "cell_type": "code",
      "source": [
        "savingaccount=1000\n",
        "checkaccount=900\n",
        "\n",
        "savingaccount=savingaccount+100\n",
        "checkaccount=checkaccount*10-10\n",
        "\n",
        "savingaccount-=200\n",
        "checkaccount+=10\n",
        "\n",
        "print(savingaccount)\n",
        "print(checkaccount)\n",
        "print(checkaccount/savingaccount) #single divide gives result in decimal format for exampe 9000/900=10.0 for this command\n",
        "print(checkaccount//savingaccount) #double divide gives result in decimal format for exampe 9000/900=10. for this command\n"
      ],
      "metadata": {
        "colab": {
          "base_uri": "https://localhost:8080/"
        },
        "id": "3AfPyt3Ve4VQ",
        "outputId": "e324885d-52c2-4d77-aeb0-aa86f1f8b765"
      },
      "execution_count": 16,
      "outputs": [
        {
          "output_type": "stream",
          "name": "stdout",
          "text": [
            "900\n",
            "9000\n",
            "10.0\n",
            "10\n"
          ]
        }
      ]
    }
  ]
}