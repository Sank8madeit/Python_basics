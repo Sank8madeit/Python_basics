{
  "nbformat": 4,
  "nbformat_minor": 0,
  "metadata": {
    "colab": {
      "provenance": [],
      "authorship_tag": "ABX9TyNNTKpS3EnGHGEv/X8v0Csx",
      "include_colab_link": true
    },
    "kernelspec": {
      "name": "python3",
      "display_name": "Python 3"
    },
    "language_info": {
      "name": "python"
    }
  },
  "cells": [
    {
      "cell_type": "markdown",
      "metadata": {
        "id": "view-in-github",
        "colab_type": "text"
      },
      "source": [
        "<a href=\"https://colab.research.google.com/github/Sank8madeit/Python_basics/blob/main/dict.ipynb\" target=\"_parent\"><img src=\"https://colab.research.google.com/assets/colab-badge.svg\" alt=\"Open In Colab\"/></a>"
      ]
    },
    {
      "cell_type": "code",
      "execution_count": 3,
      "metadata": {
        "colab": {
          "base_uri": "https://localhost:8080/"
        },
        "id": "CiY7bZPsIKyo",
        "outputId": "b756cc3f-2e16-4dab-d6ed-002664ace19c"
      },
      "outputs": [
        {
          "output_type": "stream",
          "name": "stdout",
          "text": [
            "{'sanket': 900, 'kamble': 92}\n",
            "900\n"
          ]
        }
      ],
      "source": [
        "#dictionaries\n",
        "\n",
        "'''\n",
        "Dictionaries are another type of object, similar to lists,\n",
        "but which will let you do this with a single variable! Indeed, a dictionary is a list of items organized via a system of keys.\n",
        "With a real dictionary, you look up a word to access its definition. In programming, this word corresponds to the key and the definition to the value associated with it.\n",
        "This is called a key-value pair.'''\n",
        "\n",
        "\n",
        "#declare a dictionary\n",
        "\n",
        "dic1={'sanket':900,'kamble':92}\n",
        "print(dic1)\n",
        "\n",
        "\n",
        "print(dic1['sanket']) #access the element to get key"
      ]
    },
    {
      "cell_type": "code",
      "source": [
        "#dictionary methods/operations\n",
        "\n"
      ],
      "metadata": {
        "id": "9qO8XT8pLBKl"
      },
      "execution_count": null,
      "outputs": []
    },
    {
      "cell_type": "markdown",
      "source": [
        "Manipulate the Items of a Dictionary\n",
        "Here are the operations frequently carried out with dictionaries:\n",
        "\n",
        "Access the value of an item\n",
        "\n",
        "Add a new item (a new key-value pair)\n",
        "\n",
        "Delete an item via its key\n",
        "\n",
        "A value can be accessed or modified using the same notation as with lists"
      ],
      "metadata": {
        "id": "mycmT2kULGQX"
      }
    },
    {
      "cell_type": "code",
      "source": [
        "#trial\n",
        "\n",
        "account ={ 'sanket':1000 , 'alex':2000 , 'baby':300 , 'caroline':4000}\n",
        "print(account) #{'sanket': 1000, 'alex': 2000, 'baby': 300, 'caroline': 4000}\n",
        "\n",
        "account['sanket']-=10 #changed the key\n",
        "print(account) #{'sanket': 990, 'alex': 2000, 'baby': 300, 'caroline': 4000}\n",
        "\n",
        "account['alex']=9999\n",
        "print(account) #{'sanket': 990, 'alex': 9999, 'baby': 300, 'caroline': 4000}\n",
        "\n",
        "\n"
      ],
      "metadata": {
        "colab": {
          "base_uri": "https://localhost:8080/"
        },
        "id": "sCgy1MbULHC8",
        "outputId": "125a7b0f-5df6-40fc-af13-ab2c9d5eec14"
      },
      "execution_count": 6,
      "outputs": [
        {
          "output_type": "stream",
          "name": "stdout",
          "text": [
            "{'sanket': 1000, 'alex': 2000, 'baby': 300, 'caroline': 4000}\n",
            "{'sanket': 990, 'alex': 2000, 'baby': 300, 'caroline': 4000}\n",
            "{'sanket': 990, 'alex': 9999, 'baby': 300, 'caroline': 4000}\n"
          ]
        }
      ]
    },
    {
      "cell_type": "code",
      "source": [
        "#delete --> pop\n",
        "#pop(value)\n",
        "\n",
        "print(account)\n",
        "account.pop('sanket')\n",
        "print(account) #{'alex': 9999, 'baby': 300, 'caroline': 4000}\n",
        "\n",
        "\n"
      ],
      "metadata": {
        "colab": {
          "base_uri": "https://localhost:8080/",
          "height": 253
        },
        "id": "RVPv98ckMPuP",
        "outputId": "3d85c70d-ec14-4b4a-a8da-d02fff71861b"
      },
      "execution_count": 15,
      "outputs": [
        {
          "output_type": "stream",
          "name": "stdout",
          "text": [
            "{'alex': 9999, 'baby': 300, 'caroline': 4000}\n"
          ]
        },
        {
          "output_type": "error",
          "ename": "KeyError",
          "evalue": "ignored",
          "traceback": [
            "\u001b[0;31m---------------------------------------------------------------------------\u001b[0m",
            "\u001b[0;31mKeyError\u001b[0m                                  Traceback (most recent call last)",
            "\u001b[0;32m<ipython-input-15-b7dced44172f>\u001b[0m in \u001b[0;36m<cell line: 5>\u001b[0;34m()\u001b[0m\n\u001b[1;32m      3\u001b[0m \u001b[0;34m\u001b[0m\u001b[0m\n\u001b[1;32m      4\u001b[0m \u001b[0mprint\u001b[0m\u001b[0;34m(\u001b[0m\u001b[0maccount\u001b[0m\u001b[0;34m)\u001b[0m\u001b[0;34m\u001b[0m\u001b[0;34m\u001b[0m\u001b[0m\n\u001b[0;32m----> 5\u001b[0;31m \u001b[0maccount\u001b[0m\u001b[0;34m.\u001b[0m\u001b[0mpop\u001b[0m\u001b[0;34m(\u001b[0m\u001b[0;34m'sanket'\u001b[0m\u001b[0;34m)\u001b[0m\u001b[0;34m\u001b[0m\u001b[0;34m\u001b[0m\u001b[0m\n\u001b[0m\u001b[1;32m      6\u001b[0m \u001b[0mprint\u001b[0m\u001b[0;34m(\u001b[0m\u001b[0maccount\u001b[0m\u001b[0;34m)\u001b[0m \u001b[0;31m#{'alex': 9999, 'baby': 300, 'caroline': 4000}\u001b[0m\u001b[0;34m\u001b[0m\u001b[0;34m\u001b[0m\u001b[0m\n\u001b[1;32m      7\u001b[0m \u001b[0;34m\u001b[0m\u001b[0m\n",
            "\u001b[0;31mKeyError\u001b[0m: 'sanket'"
          ]
        }
      ]
    },
    {
      "cell_type": "code",
      "source": [
        "print (len(account))\n",
        "print ('In the end the dictionary -->', account ,' has overall ',len(account) ,' items')"
      ],
      "metadata": {
        "colab": {
          "base_uri": "https://localhost:8080/"
        },
        "id": "fdHjwC1cMq3a",
        "outputId": "74e2f547-6b29-46e5-fbd3-e3cb8f1dda32"
      },
      "execution_count": 18,
      "outputs": [
        {
          "output_type": "stream",
          "name": "stdout",
          "text": [
            "3\n",
            "In the end the dictionary --> {'alex': 9999, 'baby': 300, 'caroline': 4000}  has overall  3  items\n"
          ]
        }
      ]
    }
  ]
}