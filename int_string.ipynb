{
  "nbformat": 4,
  "nbformat_minor": 0,
  "metadata": {
    "colab": {
      "provenance": [],
      "authorship_tag": "ABX9TyOaA2hXGXdrht5RyFE9h49q",
      "include_colab_link": true
    },
    "kernelspec": {
      "name": "python3",
      "display_name": "Python 3"
    },
    "language_info": {
      "name": "python"
    }
  },
  "cells": [
    {
      "cell_type": "markdown",
      "metadata": {
        "id": "view-in-github",
        "colab_type": "text"
      },
      "source": [
        "<a href=\"https://colab.research.google.com/github/Sank8madeit/Python_basics/blob/main/int_string.ipynb\" target=\"_parent\"><img src=\"https://colab.research.google.com/assets/colab-badge.svg\" alt=\"Open In Colab\"/></a>"
      ]
    },
    {
      "cell_type": "code",
      "execution_count": 18,
      "metadata": {
        "colab": {
          "base_uri": "https://localhost:8080/"
        },
        "id": "r6zAPQGIlyWR",
        "outputId": "fe0331a4-54a0-4f75-b892-913e0d06ffd7"
      },
      "outputs": [
        {
          "output_type": "stream",
          "name": "stdout",
          "text": [
            "a=1000 is <class 'int'>\n",
            "b=09202.00000000 is <class 'float'>\n",
            "c=snake is  <class 'str'>\n",
            "2000\n",
            "snakesnake\n",
            "snakesnakesnakesnakesnakesnakesnakesnakesnake\n"
          ]
        }
      ],
      "source": [
        "a=1000\n",
        "b=09202.00000000\n",
        "c='snake'\n",
        "\n",
        "print ( 'a=1000 is',type(a))\n",
        "print ( 'b=09202.00000000 is',type(b))\n",
        "print ( 'c=snake is ',type(c))\n",
        "\n",
        "\n",
        "#lets see the plus operator in python\n",
        "\n",
        "print(a+a)\n",
        "\n",
        "print(c+c) # the + operator is used to concat\n",
        "print(c*9) #  the * multiples the string the number of ways\n",
        "#print(c-1) #minus gives error\n",
        "#print(c/1) #divide error\n",
        "\n",
        "#print(c**2) #no raise to operator works\n",
        "\n"
      ]
    }
  ]
}