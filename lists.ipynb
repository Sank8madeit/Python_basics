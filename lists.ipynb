{
  "nbformat": 4,
  "nbformat_minor": 0,
  "metadata": {
    "colab": {
      "provenance": [],
      "authorship_tag": "ABX9TyNE4I4cRyLJH1/KdJCNh2rk",
      "include_colab_link": true
    },
    "kernelspec": {
      "name": "python3",
      "display_name": "Python 3"
    },
    "language_info": {
      "name": "python"
    }
  },
  "cells": [
    {
      "cell_type": "markdown",
      "metadata": {
        "id": "view-in-github",
        "colab_type": "text"
      },
      "source": [
        "<a href=\"https://colab.research.google.com/github/Sank8madeit/Python_basics/blob/main/lists.ipynb\" target=\"_parent\"><img src=\"https://colab.research.google.com/assets/colab-badge.svg\" alt=\"Open In Colab\"/></a>"
      ]
    },
    {
      "cell_type": "code",
      "execution_count": 7,
      "metadata": {
        "colab": {
          "base_uri": "https://localhost:8080/"
        },
        "id": "m05vO1Z03vWo",
        "outputId": "9b01117b-e642-4b58-f2d2-110584227d1b"
      },
      "outputs": [
        {
          "output_type": "stream",
          "name": "stdout",
          "text": [
            "['sanket', 'made', 'it', 'techno']\n",
            "sanket\n",
            "techno\n",
            "[]\n",
            "[]\n",
            "['made', 'it']\n",
            "['sanket', 'made']\n"
          ]
        }
      ],
      "source": [
        "'''All about List\n",
        "Lists are ordered objects, i.e., each item of the list is associated with a number corresponding to its order in the list. This number is called an index and it starts at 0 (not 1!).\n",
        "#The first item is therefore associated with index 0, the second with index 1, etc.'''\n",
        "\n",
        "\n",
        "#Declaring a list\n",
        "\n",
        "sample_list = [ 'sanket','made','it','techno']\n",
        "print (sample_list) # will display all the elements in the list\n",
        "print (sample_list[0]) # will display 0 th element in the list --> sanket\n",
        "print (sample_list[-1]) #will display last element in the list --> it\n",
        "print (sample_list[3:1]) #invalid range -- will print only square brackets\n",
        "print (sample_list[3:3]) #invalid range -- will print only square brackets\n",
        "print (sample_list[1:3]) # this will print from index 1 to index 3-1=index=2\n",
        "print (sample_list[:2]) #access all elements till second position\n",
        "\n",
        "\n",
        "\n",
        "\n",
        "\n"
      ]
    },
    {
      "cell_type": "code",
      "source": [
        "#hyrbrid list\n",
        "\n",
        "yo=['sanket',999,98.323,89,'heaven'] #list stores all type of different objects\n",
        "print(yo)"
      ],
      "metadata": {
        "colab": {
          "base_uri": "https://localhost:8080/"
        },
        "id": "TA0ra-c25yne",
        "outputId": "712c30c4-a1a0-4f4e-dc94-c62da5637568"
      },
      "execution_count": 8,
      "outputs": [
        {
          "output_type": "stream",
          "name": "stdout",
          "text": [
            "['sanket', 999, 98.323, 89, 'heaven']\n"
          ]
        }
      ]
    },
    {
      "cell_type": "code",
      "source": [
        "#TRY IT YOURSELFFFFFFFFFFFFFFFFFFFFFFFFFFFFFFFFFFFFFF\n",
        "\n",
        "\n",
        "strangeList = [4, 10.2, 'Marion Weaver', ['another list', 1]]\n",
        "\n",
        "# print the 4th item of the list\n",
        "print(strangeList[3][1]) #accessing an element of list inside in list"
      ],
      "metadata": {
        "colab": {
          "base_uri": "https://localhost:8080/"
        },
        "id": "mwyEzjq16GLz",
        "outputId": "68f37112-f1ab-45a2-db88-2b17d364423f"
      },
      "execution_count": 18,
      "outputs": [
        {
          "output_type": "stream",
          "name": "stdout",
          "text": [
            "1\n"
          ]
        }
      ]
    },
    {
      "cell_type": "code",
      "source": [
        "#modying list\n",
        "\n",
        "list1=['Apple','Ball','Cat','Dog','Elephant','Fish','Goat']\n",
        "\n",
        "print ('This is list before modifying-->',list1)\n",
        "\n",
        "#modying Cat to cactus\n",
        "\n",
        "list1[2]='Cactus'\n",
        "print ('This is list after modifying-->',list1)"
      ],
      "metadata": {
        "colab": {
          "base_uri": "https://localhost:8080/"
        },
        "id": "1kEv6X8Q8fgo",
        "outputId": "0ba58b69-1373-47b7-880f-9051e3616c49"
      },
      "execution_count": 21,
      "outputs": [
        {
          "output_type": "stream",
          "name": "stdout",
          "text": [
            "This is list before modifying--> ['Apple', 'Ball', 'Cat', 'Dog', 'Elephant', 'Fish', 'Goat']\n",
            "This is list after modifying--> ['Apple', 'Ball', 'Cactus', 'Dog', 'Elephant', 'Fish', 'Goat']\n"
          ]
        }
      ]
    },
    {
      "cell_type": "code",
      "source": [
        "#list operations/methoods\n",
        "\n",
        "#Append - means adding the element to the last\n",
        "list=[]\n",
        "list.append(1)\n",
        "list.append(2)\n",
        "list.append(3)\n",
        "list.append('sanket')\n",
        "print(list) #--> [1, 2, 3, 'sanket']\n",
        "\n",
        "#Insert(position,value)\n",
        "\n",
        "list.insert(0,'insertedat0')\n",
        "print(list) #--> ['insertedat0', 1, 2, 3, 'sanket']\n",
        "\n",
        "list.insert(-1,'insertedlast')\n",
        "print(list)\n",
        "\n",
        "\n",
        "#Extend --> concat 2 list , similar to append\n",
        "\n",
        "print(list) #-->['insertedat0', 1, 2, 3, 'insertedlast', 'sanket']\n",
        "list.extend(['new1','new2','new3'])\n",
        "print(list) #-->['insertedat0', 1, 2, 3, 'insertedlast', 'sanket', 'new1', 'new2', 'new3']\n",
        "\n",
        "#remove () - give the value to remove\n",
        "\n",
        "print(list) #['insertedat0', 1, 2, 3, 'insertedlast', 'sanket', 'new1', 'new2', 'new3']\n",
        "list.remove('new1')\n",
        "print(list) #'new1 removed\n",
        "\n",
        "\n",
        "#index #entr the value u wana know the index of\n",
        "list.index('new2') #6\n",
        "\n",
        "\n",
        "#length of list\n",
        "\n",
        "print(list)\n",
        "print('This the length of above list --> ',len(list))"
      ],
      "metadata": {
        "colab": {
          "base_uri": "https://localhost:8080/"
        },
        "id": "-i8Qz8Km9Odb",
        "outputId": "b5491c8e-7142-4579-ee97-3b5dd8b84629"
      },
      "execution_count": 40,
      "outputs": [
        {
          "output_type": "stream",
          "name": "stdout",
          "text": [
            "[1, 2, 3, 'sanket']\n",
            "['insertedat0', 1, 2, 3, 'sanket']\n",
            "['insertedat0', 1, 2, 3, 'insertedlast', 'sanket']\n",
            "['insertedat0', 1, 2, 3, 'insertedlast', 'sanket']\n",
            "['insertedat0', 1, 2, 3, 'insertedlast', 'sanket', 'new1', 'new2', 'new3']\n",
            "['insertedat0', 1, 2, 3, 'insertedlast', 'sanket', 'new1', 'new2', 'new3']\n",
            "['insertedat0', 1, 2, 3, 'insertedlast', 'sanket', 'new2', 'new3']\n",
            "['insertedat0', 1, 2, 3, 'insertedlast', 'sanket', 'new2', 'new3']\n",
            "This the length of above list -->  8\n"
          ]
        }
      ]
    }
  ]
}