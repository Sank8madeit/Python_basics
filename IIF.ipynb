{
  "nbformat": 4,
  "nbformat_minor": 0,
  "metadata": {
    "colab": {
      "provenance": [],
      "authorship_tag": "ABX9TyNugTOMNtJ8okFf20fCuXr5",
      "include_colab_link": true
    },
    "kernelspec": {
      "name": "python3",
      "display_name": "Python 3"
    },
    "language_info": {
      "name": "python"
    }
  },
  "cells": [
    {
      "cell_type": "markdown",
      "metadata": {
        "id": "view-in-github",
        "colab_type": "text"
      },
      "source": [
        "<a href=\"https://colab.research.google.com/github/Sank8madeit/Python_basics/blob/main/IIF.ipynb\" target=\"_parent\"><img src=\"https://colab.research.google.com/assets/colab-badge.svg\" alt=\"Open In Colab\"/></a>"
      ]
    },
    {
      "cell_type": "code",
      "execution_count": 1,
      "metadata": {
        "colab": {
          "base_uri": "https://localhost:8080/"
        },
        "id": "KyX70THlOPCh",
        "outputId": "dd9614f3-fb88-4695-ea79-f9bffc31b817"
      },
      "outputs": [
        {
          "output_type": "stream",
          "name": "stdout",
          "text": [
            "Hey Hi , Whats your name sanket\n",
            "Hi  sanket  Welcome to the world of AI\n"
          ]
        }
      ],
      "source": [
        "#our favr8 if condition\n",
        "\n",
        "\n",
        "name = input ( 'Hey Hi , Whats your name ')\n",
        "\n",
        "if len(name) > 0:\n",
        "  print('Hi ',name,' Welcome to the world of AI')\n",
        "else:\n",
        "  print ('You forgot to type bro...!')\n",
        ""
      ]
    },
    {
      "cell_type": "markdown",
      "source": [
        "==  equal to (two values are exactly the same)\n",
        "\n",
        "!=  different from\n",
        "\n",
        "<  less than\n",
        "\n",
        "<=  less than or equal to\n",
        "\n",
        "  > greater than\n",
        "\n",
        "  >= greater than or equal to"
      ],
      "metadata": {
        "id": "MmGG78zJPKIV"
      }
    },
    {
      "cell_type": "code",
      "source": [
        "2==2 #true\n",
        "2!=2"
      ],
      "metadata": {
        "colab": {
          "base_uri": "https://localhost:8080/"
        },
        "id": "n_UdPDdAPQGB",
        "outputId": "83cb7df4-c083-436d-bf57-d6d7745d7dd0"
      },
      "execution_count": 4,
      "outputs": [
        {
          "output_type": "execute_result",
          "data": {
            "text/plain": [
              "False"
            ]
          },
          "metadata": {},
          "execution_count": 4
        }
      ]
    },
    {
      "cell_type": "code",
      "source": [
        "name = input ('Hi,Can you please provider your name ')\n",
        "\n",
        "if name.upper()=='SANKET':\n",
        "  print ('Hey ',name.capitalize(),'You are verified')\n",
        "  company= input('{0} can you tell us your company name ?'.format(name))\n",
        "  if company.upper()=='CGI':\n",
        "    print (name,'is working in ',company)\n",
        "  else:\n",
        "    print('cutit')\n",
        "else:\n",
        "  print('ff')"
      ],
      "metadata": {
        "colab": {
          "base_uri": "https://localhost:8080/"
        },
        "id": "pw4pPnkUPfY5",
        "outputId": "f467c7f2-f645-443e-913f-e5ded94b2859"
      },
      "execution_count": 10,
      "outputs": [
        {
          "output_type": "stream",
          "name": "stdout",
          "text": [
            "Hi,Can you please provider your name sanket\n",
            "Hey  Sanket You are verified\n",
            "sanket can you tell us your company name ?cgi\n",
            "sanket is working in  cgi\n"
          ]
        }
      ]
    },
    {
      "cell_type": "code",
      "source": [
        "#logical operators\n",
        "#and , or , not , in\n",
        "\n",
        "3 and 3\n",
        "\n",
        "if 'sanket'=='sanket' and 0==0:\n",
        "  print('false')\n",
        "else:\n",
        "  print('else part')\n",
        "\n",
        "\n",
        ""
      ],
      "metadata": {
        "colab": {
          "base_uri": "https://localhost:8080/"
        },
        "id": "a0_YM-kLRW3h",
        "outputId": "8bdf249c-36cb-4b3a-8b1c-1a92f856ec6c"
      },
      "execution_count": 13,
      "outputs": [
        {
          "output_type": "stream",
          "name": "stdout",
          "text": [
            "false\n"
          ]
        }
      ]
    },
    {
      "cell_type": "code",
      "source": [
        "if 'a' in 'aux':\n",
        "      print(3)"
      ],
      "metadata": {
        "colab": {
          "base_uri": "https://localhost:8080/"
        },
        "id": "Milri1mKWvsV",
        "outputId": "c87a5ab0-3665-4823-bdd2-e29ee7b4a66d"
      },
      "execution_count": 28,
      "outputs": [
        {
          "output_type": "stream",
          "name": "stdout",
          "text": [
            "3\n"
          ]
        }
      ]
    },
    {
      "cell_type": "code",
      "source": [
        "a = ['foo', 'bar', 'baz', 'qux', 'corge']\n",
        "\n",
        "while a:\n",
        "  print(len(a))\n",
        "   if len(a) < 3:\n",
        "      break\n",
        "   print(a.pop())\n",
        "print('Done.')\n",
        "print(a)"
      ],
      "metadata": {
        "colab": {
          "base_uri": "https://localhost:8080/",
          "height": 131
        },
        "id": "ehh2kC-6YMib",
        "outputId": "6b056a4c-2e72-4e95-c303-fc66d632783f"
      },
      "execution_count": 31,
      "outputs": [
        {
          "output_type": "error",
          "ename": "IndentationError",
          "evalue": "ignored",
          "traceback": [
            "\u001b[0;36m  File \u001b[0;32m\"<ipython-input-31-4c9b25912033>\"\u001b[0;36m, line \u001b[0;32m5\u001b[0m\n\u001b[0;31m    if len(a) < 3:\u001b[0m\n\u001b[0m    ^\u001b[0m\n\u001b[0;31mIndentationError\u001b[0m\u001b[0;31m:\u001b[0m unexpected indent\n"
          ]
        }
      ]
    },
    {
      "cell_type": "code",
      "source": [
        "ntwrk_id= int(input('Can you please enter your last 4 digits of VDI id'))\n",
        "\n",
        "db={'sanket kamble':2608 , 'Mahesh Karpe': 4716 }\n",
        "print(db)\n",
        "if db['sanket kamble']==ntwrk_id:\n",
        "  print ('Your name is sanket kamble')\n",
        "else:\n",
        "  print ('Authentication Failed')\n"
      ],
      "metadata": {
        "colab": {
          "base_uri": "https://localhost:8080/"
        },
        "id": "rdYDHgVmR2ON",
        "outputId": "254287ce-5a3d-40e7-e63e-69509427bd6c"
      },
      "execution_count": 23,
      "outputs": [
        {
          "output_type": "stream",
          "name": "stdout",
          "text": [
            "Can you please enter your last 4 digits of VDI id2608\n",
            "{'sanket kamble': 2608, 'Mahesh Karpe': 4716}\n",
            "Your name is sanket kamble\n"
          ]
        }
      ]
    },
    {
      "cell_type": "code",
      "source": [],
      "metadata": {
        "colab": {
          "base_uri": "https://localhost:8080/"
        },
        "id": "oRYrc-EETmd3",
        "outputId": "5186db10-42de-48f1-c58b-281b1544c440"
      },
      "execution_count": 21,
      "outputs": [
        {
          "output_type": "stream",
          "name": "stdout",
          "text": [
            "{'sanket kamble': 2608, 'Mahesh Karpe': 4716}\n"
          ]
        },
        {
          "output_type": "execute_result",
          "data": {
            "text/plain": [
              "2608"
            ]
          },
          "metadata": {},
          "execution_count": 21
        }
      ]
    }
  ]
}